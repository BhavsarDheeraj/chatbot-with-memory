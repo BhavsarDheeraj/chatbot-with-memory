{
 "cells": [
  {
   "cell_type": "code",
   "execution_count": 13,
   "metadata": {},
   "outputs": [
    {
     "data": {
      "text/plain": [
       "True"
      ]
     },
     "execution_count": 13,
     "metadata": {},
     "output_type": "execute_result"
    }
   ],
   "source": [
    "import os\n",
    "from dotenv import load_dotenv\n",
    "\n",
    "load_dotenv()"
   ]
  },
  {
   "cell_type": "code",
   "execution_count": 14,
   "metadata": {},
   "outputs": [],
   "source": [
    "ZEP_API_KEY=os.getenv(\"ZEP_API_KEY\")\n",
    "ZEP_BASE_URL=os.getenv(\"ZEP_BASE_URL\")"
   ]
  },
  {
   "cell_type": "code",
   "execution_count": 15,
   "metadata": {},
   "outputs": [],
   "source": [
    "from langchain_core.prompts import (\n",
    "    ChatPromptTemplate,\n",
    "    HumanMessagePromptTemplate,\n",
    "    MessagesPlaceholder,\n",
    ")\n",
    "from langchain_core.messages import SystemMessage\n",
    "\n",
    "prompt = ChatPromptTemplate.from_messages(\n",
    "    [\n",
    "        SystemMessage(\n",
    "            content=\"You are a chatbot having a conversation with a human.\"\n",
    "        ),  # The persistent system prompt\n",
    "        MessagesPlaceholder(variable_name=\"chat_history\"),\n",
    "        # Where the memory will be stored.\n",
    "        HumanMessagePromptTemplate.from_template(\n",
    "            \"{human_input}\"\n",
    "        ),  # Where the human input will injected\n",
    "        MessagesPlaceholder(variable_name=\"agent_scratchpad\"),\n",
    "    ]\n",
    ")"
   ]
  },
  {
   "cell_type": "code",
   "execution_count": 16,
   "metadata": {},
   "outputs": [],
   "source": [
    "from langchain_openai import ChatOpenAI\n",
    "\n",
    "llm = ChatOpenAI()"
   ]
  },
  {
   "cell_type": "code",
   "execution_count": 17,
   "metadata": {},
   "outputs": [],
   "source": [
    "from zep_python import ZepClient\n",
    "\n",
    "\n",
    "client = ZepClient(base_url=ZEP_BASE_URL, api_key=ZEP_API_KEY)"
   ]
  },
  {
   "cell_type": "code",
   "execution_count": 18,
   "metadata": {},
   "outputs": [],
   "source": [
    "from zep_python.user import CreateUserRequest\n",
    "from zep_python.exceptions import NotFoundError\n",
    "\n",
    "\n",
    "try:\n",
    "    user = client.user.get(\"dheeraj\")\n",
    "except NotFoundError:\n",
    "    user_request = CreateUserRequest(\n",
    "        user_id=\"dheeraj\",\n",
    "        first_name=\"Dheeraj\",\n",
    "        metadata={\"mobile\": \"9898989898\"},\n",
    "    )\n",
    "    user = client.user.add(user_request)"
   ]
  },
  {
   "cell_type": "code",
   "execution_count": 19,
   "metadata": {},
   "outputs": [],
   "source": [
    "from zep_python import Session\n",
    "\n",
    "session_id = \"dheeraj_thread\"\n",
    "\n",
    "try:\n",
    "    session = client.memory.get_session(session_id)\n",
    "except NotFoundError:\n",
    "    session = Session(\n",
    "        session_id=session_id,\n",
    "        user_id=user.user_id,\n",
    "        metadata={\"thread_id\": session_id},\n",
    "    )\n",
    "    client.memory.add_session(session)"
   ]
  },
  {
   "cell_type": "code",
   "execution_count": 20,
   "metadata": {},
   "outputs": [],
   "source": [
    "from langchain.memory.chat_message_histories import ZepChatMessageHistory\n",
    "\n",
    "zep_chat_history = ZepChatMessageHistory(\n",
    "    session_id=session_id,\n",
    "    url=ZEP_BASE_URL,\n",
    "    api_key=ZEP_API_KEY,\n",
    ")"
   ]
  },
  {
   "cell_type": "code",
   "execution_count": 21,
   "metadata": {},
   "outputs": [],
   "source": [
    "from langchain_community.tools import WikipediaQueryRun\n",
    "from langchain_community.utilities import WikipediaAPIWrapper\n",
    "\n",
    "wikipedia = WikipediaQueryRun(api_wrapper=WikipediaAPIWrapper())"
   ]
  },
  {
   "cell_type": "code",
   "execution_count": 22,
   "metadata": {},
   "outputs": [],
   "source": [
    "tools = [wikipedia]"
   ]
  },
  {
   "cell_type": "code",
   "execution_count": 23,
   "metadata": {},
   "outputs": [],
   "source": [
    "from langchain.agents import AgentExecutor, create_tool_calling_agent\n",
    "from langchain_core.runnables.history import RunnableWithMessageHistory\n",
    "\n",
    "agent = create_tool_calling_agent(llm, tools, prompt)\n",
    "agent_executor = AgentExecutor(agent=agent, tools=tools)\n",
    "\n",
    "agent_with_chat_history = RunnableWithMessageHistory(\n",
    "    agent_executor,\n",
    "    lambda session_id: zep_chat_history,\n",
    "    input_messages_key=\"human_input\",\n",
    "    history_messages_key=\"chat_history\",\n",
    ")"
   ]
  },
  {
   "cell_type": "code",
   "execution_count": 24,
   "metadata": {},
   "outputs": [
    {
     "data": {
      "text/plain": [
       "{'human_input': 'Hi there',\n",
       " 'chat_history': [],\n",
       " 'output': 'Hello! How can I assist you today?'}"
      ]
     },
     "execution_count": 24,
     "metadata": {},
     "output_type": "execute_result"
    }
   ],
   "source": [
    "agent_with_chat_history.invoke(\n",
    "    {\"human_input\": \"Hi there\"},\n",
    "    config={\"configurable\": {\"session_id\": session_id}},\n",
    ")"
   ]
  },
  {
   "cell_type": "code",
   "execution_count": 25,
   "metadata": {},
   "outputs": [
    {
     "data": {
      "text/plain": [
       "{'human_input': 'Tell me about AR Rahman',\n",
       " 'chat_history': [HumanMessage(content='Hi there', additional_kwargs={'uuid': '71830c36-0d1e-4f1b-89f4-41108f345f2f', 'created_at': '2024-09-06T11:52:38.748808Z', 'token_count': 0, 'metadata': {'system': {'entities': [], 'intent': 'None'}}}),\n",
       "  AIMessage(content='Hello! How can I assist you today?', additional_kwargs={'uuid': '192535b0-5570-4f3c-82d8-ba64de9789d5', 'created_at': '2024-09-06T11:52:38.748808Z', 'token_count': 0, 'metadata': {'system': {'entities': [{'Label': 'DATE', 'Matches': [{'End': 33, 'Start': 28, 'Text': 'today'}], 'Name': 'Today'}], 'intent': 'None'}}})],\n",
       " 'output': 'A. R. Rahman, born as A. S. Dileep Kumar on January 6, 1967, is a renowned Indian music composer, record producer, singer, songwriter, musician, and philanthropist. He is well-known for his work in Indian cinema, particularly in Tamil and Hindi films, with occasional ventures into international cinema. Rahman has received numerous accolades, including six National Film Awards, two Academy Awards, two Grammy Awards, a BAFTA Award, and a Golden Globe Award.\\n\\nHis career took off in the early 1990s with the Tamil film \"Roja,\" and he has since composed music for several successful films like \"Bombay,\" \"Slumdog Millionaire,\" and \"Couples Retreat.\" Rahman\\'s music for \"Slumdog Millionaire\" earned him two Academy Awards for Best Original Score and Best Original Song (\"Jai Ho\").\\n\\nApart from his musical contributions, Rahman is also recognized for his philanthropic efforts, supporting various causes and charities. He has been honored by institutions like Stanford University and received awards for his influence and achievements in the music industry.\\n\\nRahman is often referred to as the \"Isai Puyal\" (musical storm) and \"Mozart of Madras\" for his exceptional musical talent and contributions to the industry.'}"
      ]
     },
     "execution_count": 25,
     "metadata": {},
     "output_type": "execute_result"
    }
   ],
   "source": [
    "agent_with_chat_history.invoke(\n",
    "    {\"human_input\": \"Tell me about AR Rahman\"},\n",
    "    config={\"configurable\": {\"session_id\": \"test1\"}},\n",
    ")"
   ]
  },
  {
   "cell_type": "code",
   "execution_count": 26,
   "metadata": {},
   "outputs": [
    {
     "data": {
      "text/plain": [
       "{'human_input': 'What are his top songs?',\n",
       " 'chat_history': [HumanMessage(content='Hi there', additional_kwargs={'uuid': '71830c36-0d1e-4f1b-89f4-41108f345f2f', 'created_at': '2024-09-06T11:52:38.748808Z', 'token_count': 0, 'metadata': {'system': {'entities': [], 'intent': 'None'}}}),\n",
       "  AIMessage(content='Hello! How can I assist you today?', additional_kwargs={'uuid': '192535b0-5570-4f3c-82d8-ba64de9789d5', 'created_at': '2024-09-06T11:52:38.748808Z', 'token_count': 0, 'metadata': {'system': {'entities': [{'Label': 'DATE', 'Matches': [{'End': 33, 'Start': 28, 'Text': 'today'}], 'Name': 'Today'}], 'intent': 'None'}}}),\n",
       "  HumanMessage(content='Tell me about AR Rahman', additional_kwargs={'uuid': '699f3cdf-6446-44bb-825c-7f406221ccac', 'created_at': '2024-09-06T11:52:54.051128Z', 'token_count': 0, 'metadata': {'system': {'entities': [{'Label': 'PERSON', 'Matches': [{'End': 23, 'Start': 14, 'Text': 'AR Rahman'}], 'Name': 'AR Rahman'}], 'intent': 'The subject is seeking information about AR Rahman, likely requesting details about his life, career, or contributions to music.'}}}),\n",
       "  AIMessage(content='A. R. Rahman, born as A. S. Dileep Kumar on January 6, 1967, is a renowned Indian music composer, record producer, singer, songwriter, musician, and philanthropist. He is well-known for his work in Indian cinema, particularly in Tamil and Hindi films, with occasional ventures into international cinema. Rahman has received numerous accolades, including six National Film Awards, two Academy Awards, two Grammy Awards, a BAFTA Award, and a Golden Globe Award.\\n\\nHis career took off in the early 1990s with the Tamil film \"Roja,\" and he has since composed music for several successful films like \"Bombay,\" \"Slumdog Millionaire,\" and \"Couples Retreat.\" Rahman\\'s music for \"Slumdog Millionaire\" earned him two Academy Awards for Best Original Score and Best Original Song (\"Jai Ho\").\\n\\nApart from his musical contributions, Rahman is also recognized for his philanthropic efforts, supporting various causes and charities. He has been honored by institutions like Stanford University and received awards for his influence and achievements in the music industry.\\n\\nRahman is often referred to as the \"Isai Puyal\" (musical storm) and \"Mozart of Madras\" for his exceptional musical talent and contributions to the industry.', additional_kwargs={'uuid': '73b23499-3f3c-4ba8-b057-fafea76fadcf', 'created_at': '2024-09-06T11:52:54.051128Z', 'token_count': 0, 'metadata': {'system': {'entities': [{'Label': 'PERSON', 'Matches': [{'End': 12, 'Start': 0, 'Text': 'A. R. Rahman'}], 'Name': 'A. R. Rahman'}, {'Label': 'PERSON', 'Matches': [{'End': 34, 'Start': 22, 'Text': 'A. S. Dileep'}], 'Name': 'A. S. Dileep'}, {'Label': 'DATE', 'Matches': [{'End': 59, 'Start': 44, 'Text': 'January 6, 1967'}], 'Name': 'January 6, 1967'}, {'Label': 'NORP', 'Matches': [{'End': 81, 'Start': 75, 'Text': 'Indian'}, {'End': 204, 'Start': 198, 'Text': 'Indian'}], 'Name': 'Indian'}, {'Label': 'GPE', 'Matches': [{'End': 234, 'Start': 229, 'Text': 'Tamil'}, {'End': 514, 'Start': 509, 'Text': 'Tamil'}], 'Name': 'Tamil'}, {'Label': 'PERSON', 'Matches': [{'End': 244, 'Start': 239, 'Text': 'Hindi'}], 'Name': 'Hindi'}, {'Label': 'PERSON', 'Matches': [{'End': 310, 'Start': 304, 'Text': 'Rahman'}, {'End': 656, 'Start': 650, 'Text': 'Rahman'}, {'End': 825, 'Start': 819, 'Text': 'Rahman'}, {'End': 1063, 'Start': 1057, 'Text': 'Rahman'}], 'Name': 'Rahman'}, {'Label': 'CARDINAL', 'Matches': [{'End': 357, 'Start': 354, 'Text': 'six'}], 'Name': 'Six'}, {'Label': 'EVENT', 'Matches': [{'End': 378, 'Start': 358, 'Text': 'National Film Awards'}], 'Name': 'National Film Awards'}, {'Label': 'CARDINAL', 'Matches': [{'End': 383, 'Start': 380, 'Text': 'two'}, {'End': 403, 'Start': 400, 'Text': 'two'}, {'End': 705, 'Start': 702, 'Text': 'two'}], 'Name': 'Two'}, {'Label': 'ORG', 'Matches': [{'End': 398, 'Start': 384, 'Text': 'Academy Awards'}, {'End': 720, 'Start': 706, 'Text': 'Academy Awards'}], 'Name': 'Academy Awards'}, {'Label': 'ORG', 'Matches': [{'End': 417, 'Start': 404, 'Text': 'Grammy Awards'}], 'Name': 'Grammy Awards'}, {'Label': 'DATE', 'Matches': [{'End': 499, 'Start': 484, 'Text': 'the early 1990s'}], 'Name': 'The early 1990s'}, {'Label': 'GPE', 'Matches': [{'End': 601, 'Start': 595, 'Text': 'Bombay'}], 'Name': 'Bombay'}, {'Label': 'WORK_OF_ART', 'Matches': [{'End': 624, 'Start': 605, 'Text': 'Slumdog Millionaire'}, {'End': 689, 'Start': 670, 'Text': 'Slumdog Millionaire'}], 'Name': 'Slumdog Millionaire'}, {'Label': 'WORK_OF_ART', 'Matches': [{'End': 647, 'Start': 632, 'Text': 'Couples Retreat'}], 'Name': 'Couples Retreat'}, {'Label': 'ORG', 'Matches': [{'End': 767, 'Start': 749, 'Text': 'Best Original Song'}], 'Name': 'Best Original Song'}, {'Label': 'WORK_OF_ART', 'Matches': [{'End': 776, 'Start': 770, 'Text': 'Jai Ho'}], 'Name': 'Jai Ho'}, {'Label': 'ORG', 'Matches': [{'End': 977, 'Start': 958, 'Text': 'Stanford University'}], 'Name': 'Stanford University'}, {'Label': 'PERSON', 'Matches': [{'End': 1132, 'Start': 1126, 'Text': 'Mozart'}], 'Name': 'Mozart'}, {'Label': 'PERSON', 'Matches': [{'End': 1142, 'Start': 1136, 'Text': 'Madras'}], 'Name': 'Madras'}], 'intent': 'None'}}})],\n",
       " 'output': 'I couldn\\'t find a specific list of AR Rahman\\'s top songs on Wikipedia. However, some of his most popular and iconic songs include:\\n\\n1. \"Roja Jaaneman\" from the movie \"Roja\"\\n2. \"Chaiyya Chaiyya\" from the movie \"Dil Se\"\\n3. \"Jai Ho\" from the movie \"Slumdog Millionaire\"\\n4. \"Tere Bina\" from the movie \"Guru\"\\n5. \"Vande Mataram\" from the album \"Vande Mataram\"\\n6. \"Humma Humma\" from the movie \"Bombay\"\\n7. \"Khwaja Mere Khwaja\" from the movie \"Jodhaa Akbar\"\\n8. \"Dil Se Re\" from the movie \"Dil Se\"\\n9. \"Maa Tujhe Salaam\" from the album \"Maa Tujhe Salaam\"\\n10. \"Kun Faya Kun\" from the movie \"Rockstar\"\\n\\nThese songs showcase AR Rahman\\'s versatility and unique musical style that has captivated audiences worldwide.'}"
      ]
     },
     "execution_count": 26,
     "metadata": {},
     "output_type": "execute_result"
    }
   ],
   "source": [
    "agent_with_chat_history.invoke(\n",
    "    {\"human_input\": \"What are his top songs?\"},\n",
    "    config={\"configurable\": {\"session_id\": \"test1\"}},\n",
    ")"
   ]
  },
  {
   "cell_type": "code",
   "execution_count": 27,
   "metadata": {},
   "outputs": [
    {
     "data": {
      "text/plain": [
       "{'human_input': 'Name some similar artists',\n",
       " 'chat_history': [HumanMessage(content='Hi there', additional_kwargs={'uuid': '71830c36-0d1e-4f1b-89f4-41108f345f2f', 'created_at': '2024-09-06T11:52:38.748808Z', 'token_count': 0, 'metadata': {'system': {'entities': [], 'intent': 'None'}}}),\n",
       "  AIMessage(content='Hello! How can I assist you today?', additional_kwargs={'uuid': '192535b0-5570-4f3c-82d8-ba64de9789d5', 'created_at': '2024-09-06T11:52:38.748808Z', 'token_count': 0, 'metadata': {'system': {'entities': [{'Label': 'DATE', 'Matches': [{'End': 33, 'Start': 28, 'Text': 'today'}], 'Name': 'Today'}], 'intent': 'None'}}}),\n",
       "  HumanMessage(content='Tell me about AR Rahman', additional_kwargs={'uuid': '699f3cdf-6446-44bb-825c-7f406221ccac', 'created_at': '2024-09-06T11:52:54.051128Z', 'token_count': 0, 'metadata': {'system': {'entities': [{'Label': 'PERSON', 'Matches': [{'End': 23, 'Start': 14, 'Text': 'AR Rahman'}], 'Name': 'AR Rahman'}], 'intent': 'The subject is seeking information about AR Rahman, likely requesting details about his life, career, or contributions to music.'}}}),\n",
       "  AIMessage(content='A. R. Rahman, born as A. S. Dileep Kumar on January 6, 1967, is a renowned Indian music composer, record producer, singer, songwriter, musician, and philanthropist. He is well-known for his work in Indian cinema, particularly in Tamil and Hindi films, with occasional ventures into international cinema. Rahman has received numerous accolades, including six National Film Awards, two Academy Awards, two Grammy Awards, a BAFTA Award, and a Golden Globe Award.\\n\\nHis career took off in the early 1990s with the Tamil film \"Roja,\" and he has since composed music for several successful films like \"Bombay,\" \"Slumdog Millionaire,\" and \"Couples Retreat.\" Rahman\\'s music for \"Slumdog Millionaire\" earned him two Academy Awards for Best Original Score and Best Original Song (\"Jai Ho\").\\n\\nApart from his musical contributions, Rahman is also recognized for his philanthropic efforts, supporting various causes and charities. He has been honored by institutions like Stanford University and received awards for his influence and achievements in the music industry.\\n\\nRahman is often referred to as the \"Isai Puyal\" (musical storm) and \"Mozart of Madras\" for his exceptional musical talent and contributions to the industry.', additional_kwargs={'uuid': '73b23499-3f3c-4ba8-b057-fafea76fadcf', 'created_at': '2024-09-06T11:52:54.051128Z', 'token_count': 0, 'metadata': {'system': {'entities': [{'Label': 'PERSON', 'Matches': [{'End': 12, 'Start': 0, 'Text': 'A. R. Rahman'}], 'Name': 'A. R. Rahman'}, {'Label': 'PERSON', 'Matches': [{'End': 34, 'Start': 22, 'Text': 'A. S. Dileep'}], 'Name': 'A. S. Dileep'}, {'Label': 'DATE', 'Matches': [{'End': 59, 'Start': 44, 'Text': 'January 6, 1967'}], 'Name': 'January 6, 1967'}, {'Label': 'NORP', 'Matches': [{'End': 81, 'Start': 75, 'Text': 'Indian'}, {'End': 204, 'Start': 198, 'Text': 'Indian'}], 'Name': 'Indian'}, {'Label': 'GPE', 'Matches': [{'End': 234, 'Start': 229, 'Text': 'Tamil'}, {'End': 514, 'Start': 509, 'Text': 'Tamil'}], 'Name': 'Tamil'}, {'Label': 'PERSON', 'Matches': [{'End': 244, 'Start': 239, 'Text': 'Hindi'}], 'Name': 'Hindi'}, {'Label': 'PERSON', 'Matches': [{'End': 310, 'Start': 304, 'Text': 'Rahman'}, {'End': 656, 'Start': 650, 'Text': 'Rahman'}, {'End': 825, 'Start': 819, 'Text': 'Rahman'}, {'End': 1063, 'Start': 1057, 'Text': 'Rahman'}], 'Name': 'Rahman'}, {'Label': 'CARDINAL', 'Matches': [{'End': 357, 'Start': 354, 'Text': 'six'}], 'Name': 'Six'}, {'Label': 'EVENT', 'Matches': [{'End': 378, 'Start': 358, 'Text': 'National Film Awards'}], 'Name': 'National Film Awards'}, {'Label': 'CARDINAL', 'Matches': [{'End': 383, 'Start': 380, 'Text': 'two'}, {'End': 403, 'Start': 400, 'Text': 'two'}, {'End': 705, 'Start': 702, 'Text': 'two'}], 'Name': 'Two'}, {'Label': 'ORG', 'Matches': [{'End': 398, 'Start': 384, 'Text': 'Academy Awards'}, {'End': 720, 'Start': 706, 'Text': 'Academy Awards'}], 'Name': 'Academy Awards'}, {'Label': 'ORG', 'Matches': [{'End': 417, 'Start': 404, 'Text': 'Grammy Awards'}], 'Name': 'Grammy Awards'}, {'Label': 'DATE', 'Matches': [{'End': 499, 'Start': 484, 'Text': 'the early 1990s'}], 'Name': 'The early 1990s'}, {'Label': 'GPE', 'Matches': [{'End': 601, 'Start': 595, 'Text': 'Bombay'}], 'Name': 'Bombay'}, {'Label': 'WORK_OF_ART', 'Matches': [{'End': 624, 'Start': 605, 'Text': 'Slumdog Millionaire'}, {'End': 689, 'Start': 670, 'Text': 'Slumdog Millionaire'}], 'Name': 'Slumdog Millionaire'}, {'Label': 'WORK_OF_ART', 'Matches': [{'End': 647, 'Start': 632, 'Text': 'Couples Retreat'}], 'Name': 'Couples Retreat'}, {'Label': 'ORG', 'Matches': [{'End': 767, 'Start': 749, 'Text': 'Best Original Song'}], 'Name': 'Best Original Song'}, {'Label': 'WORK_OF_ART', 'Matches': [{'End': 776, 'Start': 770, 'Text': 'Jai Ho'}], 'Name': 'Jai Ho'}, {'Label': 'ORG', 'Matches': [{'End': 977, 'Start': 958, 'Text': 'Stanford University'}], 'Name': 'Stanford University'}, {'Label': 'PERSON', 'Matches': [{'End': 1132, 'Start': 1126, 'Text': 'Mozart'}], 'Name': 'Mozart'}, {'Label': 'PERSON', 'Matches': [{'End': 1142, 'Start': 1136, 'Text': 'Madras'}], 'Name': 'Madras'}], 'intent': 'None'}}}),\n",
       "  HumanMessage(content='What are his top songs?', additional_kwargs={'uuid': 'f96574ba-499e-43d9-8b10-4a852bcf89b4', 'created_at': '2024-09-06T11:53:04.255226Z', 'token_count': 0, 'metadata': {'system': {'entities': [], 'intent': 'The subject is asking for information about the most popular or best songs from a specific person or artist.'}}}),\n",
       "  AIMessage(content='I couldn\\'t find a specific list of AR Rahman\\'s top songs on Wikipedia. However, some of his most popular and iconic songs include:\\n\\n1. \"Roja Jaaneman\" from the movie \"Roja\"\\n2. \"Chaiyya Chaiyya\" from the movie \"Dil Se\"\\n3. \"Jai Ho\" from the movie \"Slumdog Millionaire\"\\n4. \"Tere Bina\" from the movie \"Guru\"\\n5. \"Vande Mataram\" from the album \"Vande Mataram\"\\n6. \"Humma Humma\" from the movie \"Bombay\"\\n7. \"Khwaja Mere Khwaja\" from the movie \"Jodhaa Akbar\"\\n8. \"Dil Se Re\" from the movie \"Dil Se\"\\n9. \"Maa Tujhe Salaam\" from the album \"Maa Tujhe Salaam\"\\n10. \"Kun Faya Kun\" from the movie \"Rockstar\"\\n\\nThese songs showcase AR Rahman\\'s versatility and unique musical style that has captivated audiences worldwide.', additional_kwargs={'uuid': '204d1ed8-be87-47dc-b967-c007452b1b5b', 'created_at': '2024-09-06T11:53:04.255226Z', 'token_count': 0, 'metadata': {'system': {'entities': [{'Label': 'ORG', 'Matches': [{'End': 46, 'Start': 35, 'Text': \"AR Rahman's\"}, {'End': 622, 'Start': 611, 'Text': \"AR Rahman's\"}], 'Name': \"AR Rahman's\"}, {'Label': 'GPE', 'Matches': [{'End': 69, 'Start': 60, 'Text': 'Wikipedia'}], 'Name': 'Wikipedia'}, {'Label': 'CARDINAL', 'Matches': [{'End': 133, 'Start': 132, 'Text': '1'}], 'Name': '1'}, {'Label': 'PERSON', 'Matches': [{'End': 149, 'Start': 136, 'Text': 'Roja Jaaneman'}], 'Name': 'Roja Jaaneman'}, {'Label': 'CARDINAL', 'Matches': [{'End': 174, 'Start': 173, 'Text': '2'}], 'Name': '2'}, {'Label': 'WORK_OF_ART', 'Matches': [{'End': 192, 'Start': 177, 'Text': 'Chaiyya Chaiyya'}], 'Name': 'Chaiyya Chaiyya'}, {'Label': 'CARDINAL', 'Matches': [{'End': 219, 'Start': 218, 'Text': '3'}], 'Name': '3'}, {'Label': 'PERSON', 'Matches': [{'End': 228, 'Start': 222, 'Text': 'Jai Ho'}], 'Name': 'Jai Ho'}, {'Label': 'WORK_OF_ART', 'Matches': [{'End': 265, 'Start': 246, 'Text': 'Slumdog Millionaire'}], 'Name': 'Slumdog Millionaire'}, {'Label': 'CARDINAL', 'Matches': [{'End': 268, 'Start': 267, 'Text': '4'}], 'Name': '4'}, {'Label': 'WORK_OF_ART', 'Matches': [{'End': 302, 'Start': 298, 'Text': 'Guru'}], 'Name': 'Guru'}, {'Label': 'DATE', 'Matches': [{'End': 305, 'Start': 304, 'Text': '5'}], 'Name': '5'}, {'Label': 'WORK_OF_ART', 'Matches': [{'End': 321, 'Start': 308, 'Text': 'Vande Mataram'}, {'End': 352, 'Start': 339, 'Text': 'Vande Mataram'}], 'Name': 'Vande Mataram'}, {'Label': 'CARDINAL', 'Matches': [{'End': 355, 'Start': 354, 'Text': '6'}], 'Name': '6'}, {'Label': 'PERSON', 'Matches': [{'End': 369, 'Start': 358, 'Text': 'Humma Humma'}], 'Name': 'Humma Humma'}, {'Label': 'GPE', 'Matches': [{'End': 393, 'Start': 387, 'Text': 'Bombay'}], 'Name': 'Bombay'}, {'Label': 'DATE', 'Matches': [{'End': 396, 'Start': 395, 'Text': '7'}], 'Name': '7'}, {'Label': 'WORK_OF_ART', 'Matches': [{'End': 417, 'Start': 399, 'Text': 'Khwaja Mere Khwaja'}], 'Name': 'Khwaja Mere Khwaja'}, {'Label': 'WORK_OF_ART', 'Matches': [{'End': 447, 'Start': 435, 'Text': 'Jodhaa Akbar'}], 'Name': 'Jodhaa Akbar'}, {'Label': 'CARDINAL', 'Matches': [{'End': 450, 'Start': 449, 'Text': '8'}], 'Name': '8'}, {'Label': 'DATE', 'Matches': [{'End': 489, 'Start': 488, 'Text': '9'}], 'Name': '9'}, {'Label': 'PERSON', 'Matches': [{'End': 508, 'Start': 492, 'Text': 'Maa Tujhe Salaam'}, {'End': 542, 'Start': 526, 'Text': 'Maa Tujhe Salaam'}], 'Name': 'Maa Tujhe Salaam'}, {'Label': 'CARDINAL', 'Matches': [{'End': 546, 'Start': 544, 'Text': '10'}], 'Name': '10'}, {'Label': 'PERSON', 'Matches': [{'End': 561, 'Start': 549, 'Text': 'Kun Faya Kun'}], 'Name': 'Kun Faya Kun'}, {'Label': 'PRODUCT', 'Matches': [{'End': 587, 'Start': 579, 'Text': 'Rockstar'}], 'Name': 'Rockstar'}], 'intent': 'The subject is sharing a list of popular songs by AR Rahman and expressing admiration for his musical versatility and style.'}}})],\n",
       " 'output': 'Some artists similar to A. R. Rahman in terms of their musical style, versatility, and impact in the music industry include:\\n\\n1. Ilaiyaraaja\\n2. Shankar-Ehsaan-Loy\\n3. Pritam\\n4. Vishal-Shekhar\\n5. Amit Trivedi\\n6. Harris Jayaraj\\n7. M. M. Keeravani (M. M. Kreem)\\n8. Anirudh Ravichander\\n9. Yuvan Shankar Raja\\n10. Salim-Sulaiman\\n\\nThese artists are known for their innovative compositions, blending traditional and contemporary music elements, and contributing significantly to the Indian music scene. Each artist brings a unique touch to their work, much like A. R. Rahman, making them standout figures in the industry.'}"
      ]
     },
     "execution_count": 27,
     "metadata": {},
     "output_type": "execute_result"
    }
   ],
   "source": [
    "agent_with_chat_history.invoke(\n",
    "    {\"human_input\": \"Name some similar artists\"},\n",
    "    config={\"configurable\": {\"session_id\": \"test1\"}},\n",
    ")"
   ]
  }
 ],
 "metadata": {
  "kernelspec": {
   "display_name": "venv",
   "language": "python",
   "name": "python3"
  },
  "language_info": {
   "codemirror_mode": {
    "name": "ipython",
    "version": 3
   },
   "file_extension": ".py",
   "mimetype": "text/x-python",
   "name": "python",
   "nbconvert_exporter": "python",
   "pygments_lexer": "ipython3",
   "version": "3.12.5"
  }
 },
 "nbformat": 4,
 "nbformat_minor": 2
}
